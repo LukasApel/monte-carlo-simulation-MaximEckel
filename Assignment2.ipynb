{
 "cells": [
  {
   "cell_type": "markdown",
   "metadata": {},
   "source": [
    "## Assignment 2\n"
   ]
  },
  {
   "cell_type": "markdown",
   "metadata": {},
   "source": [
    "Die Ergebnisse aus Assignment 1 haben beim Auftraggeber zur Vermutung geführt, dass der hohe Ausschuss\n",
    "der Bremszylinder durch zu geringe Federkräfte der eingesetzten Federn zu erklären ist.\n",
    "Im Bremszylinder werden 8 Federpakete mit jeweils 3 Federn unterschiedlicher Federsteifigkeit verwendet.\n",
    "Mit einer zulässigen Toleranz der Fersteifigkeiten von +-10% ergeben sich folgende Werte:\n",
    "\n",
    "Federsteifigkeit c1 = 100 N/mm +- 10 N/mm\n",
    "                 c2 = 150 N/mm +- 15 N/mm\n",
    "                 c3 = 200 N/mm +- 20 N/mm\n",
    "                 \n",
    "Da keine Messwerte vom Auftraggeber mitgeteilt wurden, werden in den folgenden Schritten Federsteifigkeiten simuliert und normalverteilt toleriert.\n",
    "Im nächsten Schritt werden die erzeugten Federn in Federpaketen zusammengesetzt und die resultierenden Federkräfte auf Zulässigkeit überprüft.\n",
    "                        \n",
    "\n"
   ]
  },
  {
   "cell_type": "markdown",
   "metadata": {},
   "source": [
    "## Importierung der notwendigen Bilbliotheken."
   ]
  },
  {
   "cell_type": "code",
   "execution_count": 158,
   "metadata": {},
   "outputs": [],
   "source": [
    "# OS to use file system\n",
    "import os\n",
    "# Matplotlib and the pyplot module for a Matlab-like plot syntax\n",
    "import matplotlib\n",
    "# This is the syntax to import as a named module\n",
    "import matplotlib.pyplot as plt\n",
    "# Numpy for higher level mathematics\n",
    "import numpy as np\n",
    "# Special module for a very quick analysis\n",
    "import pandas as pd\n",
    "# Beautiful plots\n",
    "import seaborn as sns\n",
    "# Plot the graphs in the notebook\n",
    "%matplotlib inline\n",
    "from scipy.stats import norm"
   ]
  },
  {
   "cell_type": "markdown",
   "metadata": {},
   "source": [
    "## Simulation der Federn, Variante 1"
   ]
  },
  {
   "cell_type": "markdown",
   "metadata": {},
   "source": [
    "Der Befehl [np.random.rand(N,M)] erzeugt M Spalten mit N Werten zwischen 0 und 1.\n",
    "Mit N = int(1e6) und M = 1 werden 10^6 Werte in einer Spalte generiert. \n",
    "Durch die Substraktion mit 0,5, der anschließenden Multiplikation mit 0,2 und Addition mit 1 entstehen Werte zwischen 0,9 und 1,1. \n",
    "Die abschließende Multiplikation mit 100 resultiert in generierten Werten zwischen 90 und 110. Dies entspricht den Normwerten der ersten Federkraft inklusive poitiver und negativer Toleranz von 10%.\n",
    "Dies wird analog für die Federn c2 und c3 angewendet. \n",
    "Beispielhaft durch [100*(1+0.2*(np.random.rand(N,1)-0.5))] dargestellt.\n",
    "\n"
   ]
  },
  {
   "cell_type": "code",
   "execution_count": 159,
   "metadata": {},
   "outputs": [
    {
     "data": {
      "text/plain": [
       "array([[104.9702808 ],\n",
       "       [ 90.94205563],\n",
       "       [ 91.01008459],\n",
       "       ...,\n",
       "       [ 98.56259197],\n",
       "       [101.87440625],\n",
       "       [ 90.77640777]])"
      ]
     },
     "execution_count": 159,
     "metadata": {},
     "output_type": "execute_result"
    }
   ],
   "source": [
    "100*(1+0.2*(np.random.rand(N,1)-0.5))\n"
   ]
  },
  {
   "cell_type": "code",
   "execution_count": 160,
   "metadata": {},
   "outputs": [],
   "source": [
    "#Fix random generator for repeatability\n",
    "np.random.rand(42)\n",
    "# Number of simulations\n",
    "N = int(1e6)\n",
    "c1 = 100*(1+0.2*(np.random.rand(N,1)-0.5))\n",
    "c2 = 150*(1+0.2*(np.random.rand(N,1)-0.5))\n",
    "c3 = 200*(1+0.2*(np.random.rand(N,1)-0.5))"
   ]
  },
  {
   "cell_type": "markdown",
   "metadata": {},
   "source": [
    "Ein Bremszylinder besteht aus 8 Federpaketen mit jeweils 3 unterschiedlichen Federsteifigkeiten.\n",
    "[czus = 8*c1 + 8*c2 + 8*c3] simuliert diese zusammengesetzten Federpakete."
   ]
  },
  {
   "cell_type": "code",
   "execution_count": 161,
   "metadata": {},
   "outputs": [],
   "source": [
    "czus = 8*c1 + 8*c2 + 8*c3"
   ]
  },
  {
   "cell_type": "markdown",
   "metadata": {},
   "source": [
    "Die Funktion [sns.distplot(czus)] visualisiert die Normalverteilung der Verteilung der summierten Federkräfte pro Federpaket.\n",
    "Einen Überblick der wichtigsten statistischen Kennwerte liefert der Befehl [df.describe()], welcher bereits im 1sten Assignment Anwendung fand."
   ]
  },
  {
   "cell_type": "code",
   "execution_count": 162,
   "metadata": {
    "scrolled": false
   },
   "outputs": [
    {
     "name": "stderr",
     "output_type": "stream",
     "text": [
      "E:\\Anaconda\\lib\\site-packages\\scipy\\stats\\stats.py:1713: FutureWarning: Using a non-tuple sequence for multidimensional indexing is deprecated; use `arr[tuple(seq)]` instead of `arr[seq]`. In the future this will be interpreted as an array index, `arr[np.array(seq)]`, which will result either in an error or a different result.\n",
      "  return np.add.reduce(sorted[indexer] * weights, axis=axis) / sumval\n"
     ]
    },
    {
     "data": {
      "text/plain": [
       "<matplotlib.axes._subplots.AxesSubplot at 0x1bfb706b240>"
      ]
     },
     "execution_count": 162,
     "metadata": {},
     "output_type": "execute_result"
    },
    {
     "data": {
      "image/png": "[encoded data removed]",
      "text/plain": [
       "<Figure size 432x288 with 1 Axes>"
      ]
     },
     "metadata": {
      "needs_background": "light"
     },
     "output_type": "display_data"
    }
   ],
   "source": [
    "sns.distplot(czus)"
   ]
  },
  {
   "cell_type": "code",
   "execution_count": 163,
   "metadata": {},
   "outputs": [
    {
     "data": {
      "text/html": [
       "<div>\n",
       "<style scoped>\n",
       "    .dataframe tbody tr th:only-of-type {\n",
       "        vertical-align: middle;\n",
       "    }\n",
       "\n",
       "    .dataframe tbody tr th {\n",
       "        vertical-align: top;\n",
       "    }\n",
       "\n",
       "    .dataframe thead th {\n",
       "        text-align: right;\n",
       "    }\n",
       "</style>\n",
       "<table border=\"1\" class=\"dataframe\">\n",
       "  <thead>\n",
       "    <tr style=\"text-align: right;\">\n",
       "      <th></th>\n",
       "      <th>0</th>\n",
       "    </tr>\n",
       "  </thead>\n",
       "  <tbody>\n",
       "    <tr>\n",
       "      <th>count</th>\n",
       "      <td>1000000.000000</td>\n",
       "    </tr>\n",
       "    <tr>\n",
       "      <th>mean</th>\n",
       "      <td>3599.842863</td>\n",
       "    </tr>\n",
       "    <tr>\n",
       "      <th>std</th>\n",
       "      <td>124.322070</td>\n",
       "    </tr>\n",
       "    <tr>\n",
       "      <th>min</th>\n",
       "      <td>3244.637849</td>\n",
       "    </tr>\n",
       "    <tr>\n",
       "      <th>25%</th>\n",
       "      <td>3510.303674</td>\n",
       "    </tr>\n",
       "    <tr>\n",
       "      <th>50%</th>\n",
       "      <td>3599.656982</td>\n",
       "    </tr>\n",
       "    <tr>\n",
       "      <th>75%</th>\n",
       "      <td>3689.365305</td>\n",
       "    </tr>\n",
       "    <tr>\n",
       "      <th>max</th>\n",
       "      <td>3956.265008</td>\n",
       "    </tr>\n",
       "  </tbody>\n",
       "</table>\n",
       "</div>"
      ],
      "text/plain": [
       "                    0\n",
       "count  1000000.000000\n",
       "mean      3599.842863\n",
       "std        124.322070\n",
       "min       3244.637849\n",
       "25%       3510.303674\n",
       "50%       3599.656982\n",
       "75%       3689.365305\n",
       "max       3956.265008"
      ]
     },
     "execution_count": 163,
     "metadata": {},
     "output_type": "execute_result"
    }
   ],
   "source": [
    "df = pd.DataFrame(data=czus)\n",
    "df.describe()"
   ]
  },
  {
   "cell_type": "markdown",
   "metadata": {},
   "source": [
    "Es ist zu erkennen, dass die normalverteilten Federkräfte der zusammengesetzten Federpakete um einen Mittelwert von 3600.085479 variieren.\n",
    "Die Standartabweichung beträgt ca. 124 N/mm. "
   ]
  },
  {
   "cell_type": "markdown",
   "metadata": {},
   "source": [
    "## Abweichung der Federkräfte von mehr als +- 5%"
   ]
  },
  {
   "cell_type": "markdown",
   "metadata": {},
   "source": [
    "Die Eingangs durch [from scipy.stats import norm] initialisierte Statistik Bibliothek ermöglicht eine adequate Berechnung der Warscheinlich, dass der Nominalwert der komulierten Federkräfte mit mehr als +- 5% abweicht. Die nächsten Zeilen beschreiben \n",
    "die verwendeten Funktionen der Statistik Bilbliothek:\n",
    "\n",
    "    Mittelwert der Grundgesamtheit czus  MW = np.mean(czus)\n",
    "    Standartabweichung von czus       sigma = np.std(czus)\n",
    "    \n",
    "Des weiteren werden verwendet:\n",
    "\n",
    "    Nominalwert des Federpaketes         NV = 8*100 + 8*150 + 8*200\n",
    "    Oberes Limit von czus                OL = 1.05 * czus\n",
    "    Unteres Limit von Czus               UL = 0.95 * czus  "
   ]
  },
  {
   "cell_type": "code",
   "execution_count": 164,
   "metadata": {},
   "outputs": [
    {
     "data": {
      "text/plain": [
       "(3599.842863033249, 3600, 124.32200800298467, 3420.0, 3780.0)"
      ]
     },
     "execution_count": 164,
     "metadata": {},
     "output_type": "execute_result"
    }
   ],
   "source": [
    "MW = np.mean(czus)\n",
    "sigma = np.std(czus)\n",
    "NV = 8*100 + 8*150 + 8*200\n",
    "OL = 1.05 * NV\n",
    "UL = 0.95 * NV\n",
    "MW, NV, sigma, UL, OL"
   ]
  },
  {
   "cell_type": "markdown",
   "metadata": {},
   "source": [
    "Um nun die Warscheinlichkeit zu bestimmen, ob die komulierte Federkraft kleiner als UL oder größer als OL ist, werden \n",
    "die Funktionen: \n",
    "\n",
    "    [norm.cdf(UL,MW,sigma)] & [1-norm.cdf(OL,MW,sigma)] verwendet.\n",
    "    \n",
    "Die Summe der Ergebnisse beider Funktionen multipliziert mit 100 entspricht der Warscheinlichkeit."
   ]
  },
  {
   "cell_type": "code",
   "execution_count": 165,
   "metadata": {},
   "outputs": [
    {
     "data": {
      "text/plain": [
       "14.765847260698962"
      ]
     },
     "execution_count": 165,
     "metadata": {},
     "output_type": "execute_result"
    }
   ],
   "source": [
    "WU = norm.cdf(UL,MW,sigma)\n",
    "WO = 1- norm.cdf(OL,MW,sigma)\n",
    "W = (WO + WU) *100\n",
    "W"
   ]
  },
  {
   "cell_type": "code",
   "execution_count": 166,
   "metadata": {},
   "outputs": [
    {
     "ename": "SyntaxError",
     "evalue": "invalid syntax (<ipython-input-166-9ff4bb8cff44>, line 1)",
     "output_type": "error",
     "traceback": [
      "\u001b[1;36m  File \u001b[1;32m\"<ipython-input-166-9ff4bb8cff44>\"\u001b[1;36m, line \u001b[1;32m1\u001b[0m\n\u001b[1;33m    Die Warscheinlichkeit beträgt somit 14.76 %.\u001b[0m\n\u001b[1;37m                        ^\u001b[0m\n\u001b[1;31mSyntaxError\u001b[0m\u001b[1;31m:\u001b[0m invalid syntax\n"
     ]
    }
   ],
   "source": [
    "Die Warscheinlichkeit beträgt somit 14.76 %."
   ]
  },
  {
   "cell_type": "markdown",
   "metadata": {},
   "source": [
    "## Ausschuss berechnen"
   ]
  },
  {
   "cell_type": "markdown",
   "metadata": {},
   "source": [
    "Jeder Bremszylinder mit einer komulierten Federkraft <3380 N/mm ist Ausschuss. Wieviel Prozent der Charge wäre das ? \n",
    "Auch dies kann einfach mit der Funktion:\n",
    "    norm.cdf(d,MW,sigma) \n",
    "berechnet werden. \n",
    "Hierbei stellt d die minimale Federkraft von 3380 N/mm dar."
   ]
  },
  {
   "cell_type": "code",
   "execution_count": 170,
   "metadata": {},
   "outputs": [
    {
     "data": {
      "text/plain": [
       "3.850252183568792"
      ]
     },
     "execution_count": 170,
     "metadata": {},
     "output_type": "execute_result"
    }
   ],
   "source": [
    "d=3380\n",
    "M = norm.cdf(d,MW,sigma)*100\n",
    "M"
   ]
  },
  {
   "cell_type": "markdown",
   "metadata": {},
   "source": [
    "3.84 % der Charge wäre Ausschuss."
   ]
  },
  {
   "cell_type": "markdown",
   "metadata": {},
   "source": [
    "## Simulation der Federn, Variante 2"
   ]
  },
  {
   "cell_type": "code",
   "execution_count": 171,
   "metadata": {},
   "outputs": [
    {
     "data": {
      "text/plain": [
       "array([[188.18225092],\n",
       "       [182.63021296],\n",
       "       [180.28031086],\n",
       "       ...,\n",
       "       [189.2815094 ],\n",
       "       [182.25998198],\n",
       "       [188.34584698]])"
      ]
     },
     "execution_count": 171,
     "metadata": {},
     "output_type": "execute_result"
    }
   ],
   "source": [
    "#Fix random generator for repeatability\n",
    "np.random.rand(42)\n",
    "# Number of simulations\n",
    "N = int(1e6)\n",
    "c1_2 = 100*(1+0.2*(np.random.rand(N,1)-0.5))\n",
    "c2_2 = 150*(1+0.2*(np.random.rand(N,1)-0.5))\n",
    "c3_2 = 190+(10*(np.random.rand(N,1)-1))\n",
    "c3_2"
   ]
  },
  {
   "cell_type": "code",
   "execution_count": 172,
   "metadata": {},
   "outputs": [
    {
     "name": "stderr",
     "output_type": "stream",
     "text": [
      "E:\\Anaconda\\lib\\site-packages\\scipy\\stats\\stats.py:1713: FutureWarning: Using a non-tuple sequence for multidimensional indexing is deprecated; use `arr[tuple(seq)]` instead of `arr[seq]`. In the future this will be interpreted as an array index, `arr[np.array(seq)]`, which will result either in an error or a different result.\n",
      "  return np.add.reduce(sorted[indexer] * weights, axis=axis) / sumval\n"
     ]
    },
    {
     "data": {
      "text/plain": [
       "<matplotlib.axes._subplots.AxesSubplot at 0x1bfb7ad1860>"
      ]
     },
     "execution_count": 172,
     "metadata": {},
     "output_type": "execute_result"
    },
    {
     "data": {
      "image/png": "[encoded data removed]",
      "text/plain": [
       "<Figure size 432x288 with 1 Axes>"
      ]
     },
     "metadata": {
      "needs_background": "light"
     },
     "output_type": "display_data"
    }
   ],
   "source": [
    "sns.distplot(c3_2)"
   ]
  },
  {
   "cell_type": "code",
   "execution_count": 173,
   "metadata": {},
   "outputs": [
    {
     "name": "stderr",
     "output_type": "stream",
     "text": [
      "E:\\Anaconda\\lib\\site-packages\\scipy\\stats\\stats.py:1713: FutureWarning: Using a non-tuple sequence for multidimensional indexing is deprecated; use `arr[tuple(seq)]` instead of `arr[seq]`. In the future this will be interpreted as an array index, `arr[np.array(seq)]`, which will result either in an error or a different result.\n",
      "  return np.add.reduce(sorted[indexer] * weights, axis=axis) / sumval\n"
     ]
    },
    {
     "data": {
      "text/plain": [
       "<matplotlib.axes._subplots.AxesSubplot at 0x1bfb738d048>"
      ]
     },
     "execution_count": 173,
     "metadata": {},
     "output_type": "execute_result"
    },
    {
     "data": {
      "image/png": "[encoded data removed]",
      "text/plain": [
       "<Figure size 432x288 with 1 Axes>"
      ]
     },
     "metadata": {
      "needs_background": "light"
     },
     "output_type": "display_data"
    }
   ],
   "source": [
    "czus_2 = 8*c1_2 + 8*c2_2 + 8*c3_2\n",
    "sns.distplot(czus_2)"
   ]
  },
  {
   "cell_type": "code",
   "execution_count": 174,
   "metadata": {},
   "outputs": [
    {
     "data": {
      "text/html": [
       "<div>\n",
       "<style scoped>\n",
       "    .dataframe tbody tr th:only-of-type {\n",
       "        vertical-align: middle;\n",
       "    }\n",
       "\n",
       "    .dataframe tbody tr th {\n",
       "        vertical-align: top;\n",
       "    }\n",
       "\n",
       "    .dataframe thead th {\n",
       "        text-align: right;\n",
       "    }\n",
       "</style>\n",
       "<table border=\"1\" class=\"dataframe\">\n",
       "  <thead>\n",
       "    <tr style=\"text-align: right;\">\n",
       "      <th></th>\n",
       "      <th>0</th>\n",
       "    </tr>\n",
       "  </thead>\n",
       "  <tbody>\n",
       "    <tr>\n",
       "      <th>count</th>\n",
       "      <td>1000000.000000</td>\n",
       "    </tr>\n",
       "    <tr>\n",
       "      <th>mean</th>\n",
       "      <td>3480.179748</td>\n",
       "    </tr>\n",
       "    <tr>\n",
       "      <th>std</th>\n",
       "      <td>86.343662</td>\n",
       "    </tr>\n",
       "    <tr>\n",
       "      <th>min</th>\n",
       "      <td>3242.175799</td>\n",
       "    </tr>\n",
       "    <tr>\n",
       "      <th>25%</th>\n",
       "      <td>3416.887310</td>\n",
       "    </tr>\n",
       "    <tr>\n",
       "      <th>50%</th>\n",
       "      <td>3480.113697</td>\n",
       "    </tr>\n",
       "    <tr>\n",
       "      <th>75%</th>\n",
       "      <td>3543.506805</td>\n",
       "    </tr>\n",
       "    <tr>\n",
       "      <th>max</th>\n",
       "      <td>3717.798061</td>\n",
       "    </tr>\n",
       "  </tbody>\n",
       "</table>\n",
       "</div>"
      ],
      "text/plain": [
       "                    0\n",
       "count  1000000.000000\n",
       "mean      3480.179748\n",
       "std         86.343662\n",
       "min       3242.175799\n",
       "25%       3416.887310\n",
       "50%       3480.113697\n",
       "75%       3543.506805\n",
       "max       3717.798061"
      ]
     },
     "execution_count": 174,
     "metadata": {},
     "output_type": "execute_result"
    }
   ],
   "source": [
    "df = pd.DataFrame(data=czus_2)\n",
    "df.describe()"
   ]
  },
  {
   "cell_type": "markdown",
   "metadata": {},
   "source": [
    "Es ist zu erkennen, dass der Mittelwert der Kraft des zusammengesetzten Federpakets minimiert wurde. \n",
    "Der Wert liegt nun bei 3480.13 N/mm.\n",
    "Nun folgt wie im ersten Teil die Berechnung der Warscheinlichkeit der Abweichung des Nominalwertes der Gesamtkraft der Feder um mehr als +- 5%."
   ]
  },
  {
   "cell_type": "code",
   "execution_count": 175,
   "metadata": {},
   "outputs": [
    {
     "data": {
      "text/plain": [
       "(3480.1797478694216, 3600, 86.3436192438393, 3420.0, 3780.0)"
      ]
     },
     "execution_count": 175,
     "metadata": {},
     "output_type": "execute_result"
    }
   ],
   "source": [
    "MW_2 = np.mean(czus_2)\n",
    "sigma_2 = np.std(czus_2)\n",
    "NV_2 = 8*100 + 8*150 + 8*200\n",
    "OL_2 = 1.05 * NV_2\n",
    "UL_2 = 0.95 * NV_2\n",
    "MW_2, NV_2, sigma_2, UL_2, OL_2"
   ]
  },
  {
   "cell_type": "code",
   "execution_count": 176,
   "metadata": {},
   "outputs": [
    {
     "data": {
      "text/plain": [
       "24.31656622645571"
      ]
     },
     "execution_count": 176,
     "metadata": {},
     "output_type": "execute_result"
    }
   ],
   "source": [
    "WU_2 = norm.cdf(UL_2,MW_2,sigma_2)\n",
    "WO_2 = 1- norm.cdf(OL_2,MW_2,sigma_2)\n",
    "W_2 = (WO_2 + WU_2) *100\n",
    "W_2"
   ]
  },
  {
   "cell_type": "markdown",
   "metadata": {},
   "source": [
    "Im Gegensatz zur Variante 1 hat sich die Warscheinlichkeit um knapp 10% auf 24,32% erhöht."
   ]
  },
  {
   "cell_type": "markdown",
   "metadata": {},
   "source": [
    "## Ausschuss berechnen"
   ]
  },
  {
   "cell_type": "code",
   "execution_count": 178,
   "metadata": {},
   "outputs": [
    {
     "data": {
      "text/plain": [
       "12.297454608518926"
      ]
     },
     "execution_count": 178,
     "metadata": {},
     "output_type": "execute_result"
    }
   ],
   "source": [
    "d=3380\n",
    "M_2 = norm.cdf(d,MW_2,sigma_2)*100\n",
    "M_2"
   ]
  },
  {
   "cell_type": "markdown",
   "metadata": {},
   "source": [
    "Der Ausschuss wird beinahe vervierfacht auf 12.3%."
   ]
  },
  {
   "cell_type": "markdown",
   "metadata": {},
   "source": [
    "## EoL-Analyse "
   ]
  },
  {
   "cell_type": "markdown",
   "metadata": {},
   "source": [
    "Bei einer Warscheinlichkeit einer zu geringen Gesamtkraft des Bremszylinders von 1ppm im unbenutzten Zustand hat keine Aussage darüber, wie sich die Federkräfte im EoL-Test verhalten. Es wäre möglich, dass die Federn bei Dauerbelastung an Steifigkeit verlieren oder gar brechen.\n",
    "Somit ist eine EoL-Analyse anzuraten."
   ]
  }
 ],
 "metadata": {
  "kernelspec": {
   "display_name": "Python 3",
   "language": "python",
   "name": "python3"
  },
  "language_info": {
   "codemirror_mode": {
    "name": "ipython",
    "version": 3
   },
   "file_extension": ".py",
   "mimetype": "text/x-python",
   "name": "python",
   "nbconvert_exporter": "python",
   "pygments_lexer": "ipython3",
   "version": "3.7.0"
  }
 },
 "nbformat": 4,
 "nbformat_minor": 2
}
